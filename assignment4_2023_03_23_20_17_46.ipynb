{
 "cells": [
  {
   "cell_type": "markdown",
   "id": "69d305e9",
   "metadata": {
    "deletable": false,
    "editable": false,
    "nbgrader": {
     "cell_type": "markdown",
     "checksum": "e532a7b0bbaf722cc8e5496bfde02472",
     "grade": false,
     "grade_id": "cell-24e3b5e89f5669c5",
     "locked": true,
     "schema_version": 3,
     "solution": false,
     "task": false
    }
   },
   "source": [
    "---\n",
    "\n",
    "_You are currently looking at **version 1.0** of this notebook. To download notebooks and datafiles, as well as get help on Jupyter notebooks in the Coursera platform, visit the Jupyter Notebook FAQ course resource._\n",
    "\n",
    "---"
   ]
  },
  {
   "cell_type": "markdown",
   "id": "0be71ec1",
   "metadata": {
    "deletable": false,
    "editable": false,
    "nbgrader": {
     "cell_type": "markdown",
     "checksum": "2ddd869ec642dbe6404672b445fd4dd1",
     "grade": false,
     "grade_id": "cell-6757b7ecd16ad875",
     "locked": true,
     "schema_version": 3,
     "solution": false,
     "task": false
    }
   },
   "source": [
    "# Assignment 4 - Predicting and understanding viewer engagement with educational videos \n",
    "\n",
    "With the accelerating popularity of online educational experiences, the role of online lectures and other educational video continues to increase in scope and importance. Open access educational repositories such as <a href=\"http://videolectures.net/\">videolectures.net</a>, as well as Massive Open Online Courses (MOOCs) on platforms like Coursera, have made access to many thousands of lectures and tutorials an accessible option for millions of people around the world. Yet this impressive volume of content has also led to a challenge in how to find, filter, and match these videos with learners. This assignment gives you an example of how machine learning can be used to address part of that challenge.\n",
    "\n",
    "## About the prediction problem\n",
    "\n",
    "One critical property of a video is engagement: how interesting or \"engaging\" it is for viewers, so that they decide to keep watching. Engagement is critical for learning, whether the instruction is coming from a video or any other source. There are many ways to define engagement with video, but one common approach is to estimate it by measuring how much of the video a user watches. If the video is not interesting and does not engage a viewer, they will typically abandon it quickly, e.g. only watch 5 or 10% of the total. \n",
    "\n",
    "A first step towards providing the best-matching educational content is to understand which features of educational material make it engaging for learners in general. This is where predictive modeling can be applied, via supervised machine learning. For this assignment, your task is to predict how engaging an educational video is likely to be for viewers, based on a set of features extracted from the video's transcript, audio track, hosting site, and other sources.\n",
    "\n",
    "We chose this prediction problem for several reasons:\n",
    "\n",
    "* It combines a variety of features derived from a rich set of resources connected to the original data;\n",
    "* The manageable dataset size means the dataset and supervised models for it can be easily explored on a wide variety of computing platforms;\n",
    "* Predicting popularity or engagement for a media item, especially combined with understanding which features contribute to its success with viewers, is a fun problem but also a practical representative application of machine learning in a number of business and educational sectors.\n",
    "\n",
    "\n",
    "## About the dataset\n",
    "\n",
    "We extracted training and test datasets of educational video features from the VLE Dataset put together by researcher Sahan Bulathwela at University College London. \n",
    "\n",
    "We provide you with two data files for use in training and validating your models: train.csv and test.csv. Each row in these two files corresponds to a single educational video, and includes information about diverse properties of the video content as described further below. The target variable is `engagement` which was defined as True if the median percentage of the video watched across all viewers was at least 30%, and False otherwise.\n",
    "\n",
    "Note: Any extra variables that may be included in the training set are simply for your interest if you want an additional source of data for visualization, or to enable unsupervised and semi-supervised approaches. However, they are not included in the test set and thus cannot be used for prediction. **Only the data already included in your Coursera directory can be used for training the model for this assignment.**\n",
    "\n",
    "For this final assignment, you will bring together what you've learned across all four weeks of this course, by exploring different prediction models for this new dataset. In addition, we encourage you to apply what you've learned about model selection to do hyperparameter tuning using training/validation splits of the training data, to optimize the model and further increase its performance. In addition to a basic evaluation of model accuracy, we've also provided a utility function to visualize which features are most and least contributing to the overall model performance.\n",
    "\n",
    "**File descriptions** \n",
    "    assets/train.csv - the training set (Use only this data for training your model!)\n",
    "    assets/test.csv - the test set\n",
    "<br>\n",
    "\n",
    "**Data fields**\n",
    "\n",
    "train.csv & test.csv:\n",
    "\n",
    "    title_word_count - the number of words in the title of the video.\n",
    "    \n",
    "    document_entropy - a score indicating how varied the topics are covered in the video, based on the transcript. Videos with smaller entropy scores will tend to be more cohesive and more focused on a single topic.\n",
    "    \n",
    "    freshness - The number of days elapsed between 01/01/1970 and the lecture published date. Videos that are more recent will have higher freshness values.\n",
    "    \n",
    "    easiness - A text difficulty measure applied to the transcript. A lower score indicates more complex language used by the presenter.\n",
    "    \n",
    "    fraction_stopword_presence - A stopword is a very common word like 'the' or 'and'. This feature computes the fraction of all words that are stopwords in the video lecture transcript.\n",
    "    \n",
    "    speaker_speed - The average speaking rate in words per minute of the presenter in the video.\n",
    "    \n",
    "    silent_period_rate - The fraction of time in the lecture video that is silence (no speaking).\n",
    "    \n",
    "train.csv only:\n",
    "    \n",
    "    engagement - Target label for training. True if learners watched a substantial portion of the video (see description), or False otherwise.\n",
    "    \n",
    "\n",
    "## Evaluation\n",
    "\n",
    "Your predictions will be given as the probability that the corresponding video will be engaging to learners.\n",
    "\n",
    "The evaluation metric for this assignment is the Area Under the ROC Curve (AUC). \n",
    "\n",
    "Your grade will be based on the AUC score computed for your classifier. A model with an AUC (area under ROC curve) of at least 0.8 passes this assignment, and over 0.85 will receive full points.\n",
    "___\n",
    "\n",
    "For this assignment, create a function that trains a model to predict significant learner engagement with a video using `asset/train.csv`. Using this model, return a Pandas Series object of length 2309 with the data being the probability that each corresponding video from `readonly/test.csv` will be engaging (according to a model learned from the 'engagement' label in the training set), and the video index being in the `id` field.\n",
    "\n",
    "Example:\n",
    "\n",
    "    id\n",
    "       9240    0.401958\n",
    "       9241    0.105928\n",
    "       9242    0.018572\n",
    "                 ...\n",
    "       9243    0.208567\n",
    "       9244    0.818759\n",
    "       9245    0.018528\n",
    "             ...\n",
    "       Name: engagement, dtype: float32\n",
    "       \n",
    "### Hints\n",
    "\n",
    "* Make sure your code is working before submitting it to the autograder.\n",
    "\n",
    "* Print out and check your result to see whether there is anything weird (e.g., all probabilities are the same).\n",
    "\n",
    "* Generally the total runtime should be less than 10 mins. \n",
    "\n",
    "* Try to avoid global variables. If you have other functions besides engagement_model, you should move those functions inside the scope of engagement_model.\n",
    "\n",
    "* Be sure to first check the pinned threads in Week 4's discussion forum if you run into a problem you can't figure out.\n",
    "\n",
    "### Extensions\n",
    "\n",
    "* If this prediction task motivates you to explore further, you can find more details here on the original VLE dataset and others related to video engagement: https://github.com/sahanbull/VLE-Dataset\n",
    "\n"
   ]
  },
  {
   "cell_type": "code",
   "execution_count": 79,
   "id": "1218318f",
   "metadata": {
    "deletable": false,
    "editable": false,
    "nbgrader": {
     "cell_type": "code",
     "checksum": "b7dc38d94db79fb7160854a629c825a8",
     "grade": false,
     "grade_id": "cell-2c0cf4e0ffe5f447",
     "locked": true,
     "schema_version": 3,
     "solution": false,
     "task": false
    }
   },
   "outputs": [],
   "source": [
    "import warnings\n",
    "warnings.filterwarnings(\"ignore\")\n",
    "\n",
    "import os\n",
    "import pandas as pd\n",
    "import numpy as np\n",
    "import matplotlib.pyplot as plt\n",
    "\n",
    "np.random.seed(0)   # Do not change this value: required to be compatible with solutions generated by the autograder."
   ]
  },
  {
   "cell_type": "code",
   "execution_count": 80,
   "id": "11fefb52-1e95-4037-9714-d3cbb6f189ae",
   "metadata": {},
   "outputs": [
    {
     "data": {
      "text/plain": [
       "(False    8342\n",
       " True      897\n",
       " Name: engagement, dtype: int64,\n",
       " Index(['id', 'title_word_count', 'document_entropy', 'freshness', 'easiness',\n",
       "        'fraction_stopword_presence', 'normalization_rate', 'speaker_speed',\n",
       "        'silent_period_rate', 'engagement'],\n",
       "       dtype='object'))"
      ]
     },
     "execution_count": 80,
     "metadata": {},
     "output_type": "execute_result"
    }
   ],
   "source": [
    "df=pd.read_csv('assets/train.csv')\n",
    "df.head()\n",
    "col_=df.columns\n",
    "col_\n",
    "df[col_[-1]].value_counts(),col_"
   ]
  },
  {
   "cell_type": "code",
   "execution_count": 81,
   "id": "4d77d511-f0bd-4e49-afaf-26cda1834253",
   "metadata": {},
   "outputs": [
    {
     "data": {
      "text/plain": [
       "id                            0\n",
       "title_word_count              0\n",
       "document_entropy              0\n",
       "freshness                     0\n",
       "easiness                      0\n",
       "fraction_stopword_presence    0\n",
       "normalization_rate            0\n",
       "speaker_speed                 0\n",
       "silent_period_rate            0\n",
       "engagement                    0\n",
       "dtype: int64"
      ]
     },
     "execution_count": 81,
     "metadata": {},
     "output_type": "execute_result"
    }
   ],
   "source": [
    "df.isnull().sum()#no missing value"
   ]
  },
  {
   "cell_type": "code",
   "execution_count": 129,
   "id": "f481c0d0-97b8-40ec-beb3-0bd376d9536f",
   "metadata": {},
   "outputs": [],
   "source": [
    "X_feature=df.loc[:,['title_word_count', 'document_entropy', 'freshness', 'easiness',\n",
    "        'fraction_stopword_presence', 'normalization_rate', 'speaker_speed',\n",
    "        'silent_period_rate']]\n",
    "X_feature.head()\n",
    "Y_feature=df.loc[:,['engagement']]\n",
    "Y_feature\n",
    "index_id=[i for i in range (9240,11549)]\n"
   ]
  },
  {
   "cell_type": "code",
   "execution_count": 130,
   "id": "5dc428e0-3951-46b4-b836-4d274f806cda",
   "metadata": {},
   "outputs": [],
   "source": [
    "from sklearn.model_selection import train_test_split\n",
    "X_train, X_test, y_train, y_test = train_test_split(X_feature, Y_feature, random_state=0)\n",
    "\n",
    "from sklearn.preprocessing import MinMaxScaler\n",
    "scaler = MinMaxScaler()\n",
    "X_train_scaled = scaler.fit_transform(X_train)\n",
    "# we must apply the scaling to the test set that we computed for the training set\n",
    "X_test_scaled = scaler.transform(X_test)\n",
    "from sklearn.metrics import roc_curve\n",
    "from sklearn.metrics import RocCurveDisplay"
   ]
  },
  {
   "cell_type": "code",
   "execution_count": 131,
   "id": "29d7efcc-de18-4606-a4a2-8c4ea1e49764",
   "metadata": {},
   "outputs": [],
   "source": [
    "from sklearn.ensemble import RandomForestClassifier\n",
    "clf = RandomForestClassifier(n_estimators = 200,max_depth=15,\n",
    "                            random_state=0).fit(X_train_scaled, y_train)"
   ]
  },
  {
   "cell_type": "code",
   "execution_count": 132,
   "id": "5a27556e-79f7-4513-aaaf-9daac9b6097d",
   "metadata": {},
   "outputs": [
    {
     "data": {
      "text/plain": [
       "0.7012437626599476"
      ]
     },
     "execution_count": 132,
     "metadata": {},
     "output_type": "execute_result"
    }
   ],
   "source": [
    "from sklearn.metrics import roc_curve, auc,roc_auc_score\n",
    "roc_auc_score(y_test, clf.predict(X_test_scaled))\n"
   ]
  },
  {
   "cell_type": "code",
   "execution_count": 148,
   "id": "4b9b2851-602b-401d-9d9d-ab458e1bb1da",
   "metadata": {},
   "outputs": [
    {
     "data": {
      "text/plain": [
       "0.8631202345075176"
      ]
     },
     "execution_count": 148,
     "metadata": {},
     "output_type": "execute_result"
    }
   ],
   "source": [
    "from sklearn.ensemble import GradientBoostingClassifier\n",
    "clf1=GradientBoostingClassifier(n_estimators = 100,learning_rate = 0.2, max_depth = 15, random_state=0).fit(X_train_scaled,y_train)\n",
    "roc_auc_score(y_test, clf1.predict_proba(X_test_scaled)[:,1])\n",
    "#fpr, tpr, _ = roc_curve(y_test, clf1.decision_function(X_test_scaled))\n",
    "#roc_display = RocCurveDisplay(fpr=fpr, tpr=tpr).plot()\n"
   ]
  },
  {
   "cell_type": "code",
   "execution_count": 149,
   "id": "8d09b584-5d9e-44ed-9d50-eac64eea08dd",
   "metadata": {},
   "outputs": [
    {
     "data": {
      "text/plain": [
       "9240     4.921166e-09\n",
       "9241     9.485842e-06\n",
       "9242     1.908082e-05\n",
       "9243     9.990981e-01\n",
       "9244     4.133683e-08\n",
       "             ...     \n",
       "11544    9.551996e-09\n",
       "11545    1.989442e-08\n",
       "11546    2.239719e-08\n",
       "11547    9.997743e-01\n",
       "11548    2.300341e-08\n",
       "Length: 2309, dtype: float64"
      ]
     },
     "execution_count": 149,
     "metadata": {},
     "output_type": "execute_result"
    }
   ],
   "source": [
    "test=pd.read_csv('assets/test.csv')\n",
    "x_test_final=test.loc[:,['title_word_count', 'document_entropy', 'freshness', 'easiness',\n",
    "        'fraction_stopword_presence', 'normalization_rate', 'speaker_speed',\n",
    "        'silent_period_rate']]\n",
    "x_test_final_scaled=scaler.fit_transform(x_test_final)\n",
    "y_test_predict=clf1.predict_proba(x_test_final_scaled)\n",
    "type(y_test_predict)\n",
    "rec=pd.Series(y_test_predict[:,1],index=index_id)\n",
    "\n",
    "\n",
    "rec"
   ]
  },
  {
   "cell_type": "markdown",
   "id": "8821dae8-f8aa-4c2b-beb1-2ed3a8f094ac",
   "metadata": {},
   "source": [
    "from sklearn.ensemble import GradientBoostingClassifier"
   ]
  },
  {
   "cell_type": "code",
   "execution_count": 155,
   "id": "a8d179ff",
   "metadata": {
    "deletable": false,
    "nbgrader": {
     "cell_type": "code",
     "checksum": "aef89dbca058b3768c5e369581c14bbb",
     "grade": false,
     "grade_id": "cell-f8da4477c345bf17",
     "locked": false,
     "schema_version": 3,
     "solution": true,
     "task": false
    }
   },
   "outputs": [],
   "source": [
    "def engagement_model():\n",
    "    rec = None\n",
    "    \n",
    "    df=pd.read_csv('assets/train.csv')\n",
    "    X_feature=df.loc[:,['title_word_count', 'document_entropy', 'freshness', 'easiness',\n",
    "        'fraction_stopword_presence', 'normalization_rate', 'speaker_speed',\n",
    "        'silent_period_rate']]\n",
    "    Y_feature=df.loc[:,['engagement']]\n",
    "    from sklearn.model_selection import train_test_split\n",
    "    X_train, X_test, y_train, y_test = train_test_split(X_feature, Y_feature, random_state=0)\n",
    "\n",
    "    from sklearn.preprocessing import MinMaxScaler\n",
    "    scaler = MinMaxScaler()\n",
    "    X_train_scaled = scaler.fit_transform(X_train)\n",
    "    # we must apply the scaling to the test set that we computed for the training set\n",
    "    X_test_scaled = scaler.transform(X_test)\n",
    "    from sklearn.metrics import roc_curve\n",
    "    from sklearn.metrics import RocCurveDisplay\n",
    "    from sklearn.ensemble import GradientBoostingClassifier\n",
    "    clf1=GradientBoostingClassifier(n_estimators = 100,learning_rate = 0.2, max_depth = 15, random_state=0).fit(X_train_scaled,y_train)\n",
    "    test=pd.read_csv('assets/test.csv')\n",
    "    x_test_final=test.loc[:,['title_word_count', 'document_entropy', 'freshness', 'easiness',\n",
    "        'fraction_stopword_presence', 'normalization_rate', 'speaker_speed',\n",
    "        'silent_period_rate']]\n",
    "    x_test_final_scaled=scaler.fit_transform(x_test_final)\n",
    "    index_id=[i for i in range (9240,11549)]\n",
    "    y_test_predict=clf1.predict_proba(x_test_final_scaled)\n",
    "    rec=pd.Series(y_test_predict[:,1],index=index_id)\n",
    "    return rec\n",
    "\n",
    "    \n",
    "    raise NotImplementedError()\n",
    "    \n",
    "    "
   ]
  },
  {
   "cell_type": "code",
   "execution_count": 154,
   "id": "24b6c9cb",
   "metadata": {
    "deletable": false,
    "editable": false,
    "nbgrader": {
     "cell_type": "code",
     "checksum": "b62f51501dbd542c790e5ed5f1d57449",
     "grade": true,
     "grade_id": "cell-0372cfb70ab9b4de",
     "locked": true,
     "points": 4,
     "schema_version": 3,
     "solution": false,
     "task": false
    }
   },
   "outputs": [],
   "source": [
    "# Autograder tests - sanity checks; no points for passing this cell\n",
    "\n",
    "stu_ans = engagement_model()\n",
    "\n",
    "assert isinstance(stu_ans, pd.Series), \"Your function should return a pd.Series. \"\n",
    "assert len(stu_ans) == 2309, \"Your series is of incorrect length: expected 2309 \"\n"
   ]
  },
  {
   "cell_type": "code",
   "execution_count": null,
   "id": "42118464",
   "metadata": {
    "deletable": false,
    "editable": false,
    "nbgrader": {
     "cell_type": "code",
     "checksum": "26a7c364781ea24c8e46c623e73c1d4a",
     "grade": true,
     "grade_id": "cell-df6ac3eec5bb54f7",
     "locked": true,
     "points": 1,
     "schema_version": 3,
     "solution": false,
     "task": false
    }
   },
   "outputs": [],
   "source": []
  },
  {
   "cell_type": "code",
   "execution_count": 152,
   "id": "9da683c8-e845-43e6-bcdf-45c15207dea3",
   "metadata": {},
   "outputs": [],
   "source": [
    "assert len(stu_ans)==2309"
   ]
  },
  {
   "cell_type": "code",
   "execution_count": 139,
   "id": "6ff30fcd-4f62-4d1e-827e-5fd2897ee64e",
   "metadata": {},
   "outputs": [],
   "source": [
    "assert isinstance(stu_ans, pd.Series)"
   ]
  },
  {
   "cell_type": "code",
   "execution_count": null,
   "id": "95baec19-962e-4625-8874-ab5c5d0f20d7",
   "metadata": {},
   "outputs": [],
   "source": []
  }
 ],
 "metadata": {
  "coursera": {
   "schema_names": [
    "mooc_adswpy_v1_assignment4"
   ]
  },
  "kernelspec": {
   "display_name": "Python 3 (ipykernel)",
   "language": "python",
   "name": "python3"
  },
  "language_info": {
   "codemirror_mode": {
    "name": "ipython",
    "version": 3
   },
   "file_extension": ".py",
   "mimetype": "text/x-python",
   "name": "python",
   "nbconvert_exporter": "python",
   "pygments_lexer": "ipython3",
   "version": "3.8.10"
  }
 },
 "nbformat": 4,
 "nbformat_minor": 5
}
